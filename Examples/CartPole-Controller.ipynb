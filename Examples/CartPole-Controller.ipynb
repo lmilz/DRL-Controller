{
 "cells": [
  {
   "cell_type": "markdown",
   "metadata": {},
   "source": [
    "# Regelung von CartPole Env\n",
    "\n",
    "## CartPole Environment\n",
    "\n",
    "Es handelt sich im Wesentlichen um ein Problem mit dem umgekehrten Pendel, bei dem es unser Ziel ist, den Kartuschen in der Mitte im Gleichgewicht zu halten - das Pendel schwingt, kann aber durch geeignete horizontale Kräfte an Ort und Stelle gehalten werden. Der Cartpole-Agent kann nur zwei mögliche Aktionen ausführen: nach links oder nach rechts. Die Zustände in dieser Umgebung umfassen die Position des Drehpunkts, seine Geschwindigkeit, seinen Winkel und seine Winkelgeschwindigkeit; Ohne auf die Physik einzugehen, ist hier zu schließen, dass unser Zustandsraum kontinuierliche Werte und vier Dimensionen hat.\n",
    "\n",
    "Wir bekommen eine Belohnung, solange unser Cartpole nicht herunterfällt. Sobald dies passiert ist, ist die Spielepisode vorbei. Um zu gewinnen, müssen wir eine Verhaltensrichtlinie finden, die es unserem Pole-Agenten ermöglicht, aufrecht zu bleiben - mit anderen Worten, eine konstant hohe Belohnung zu erhalten (das Maximum beträgt 500 in Cartpole Version 1, die wir verwenden\n",
    "\n",
    "state (observation from cart-pole system):\n",
    "+ Type: Box(4) - cart_position, cart_velocity, pole_angle, pole_tip_velocity\n",
    "+ cart_position: -2.4 ~ 2.4\n",
    "+ cart_velocity: -inf ~ inf\n",
    "+ pole_angle:    -41.8° ~ 41.8°\n",
    "+ tip_velocity:  -inf ~ inf\n",
    "\n",
    "actions:\n",
    "+ Type: Discrete(2)\n",
    "+ 0: push cart to left\n",
    "+ 1: push cart to right"
   ]
  },
  {
   "cell_type": "markdown",
   "metadata": {},
   "source": [
    "## Environment und zufällige Aktionen"
   ]
  },
  {
   "cell_type": "code",
   "execution_count": 1,
   "metadata": {},
   "outputs": [
    {
     "name": "stdout",
     "output_type": "stream",
     "text": [
      "Aktionsraum Discrete(2)\n",
      "Zustandsraum Box(-3.4028234663852886e+38, 3.4028234663852886e+38, (4,), float32)\n",
      "17.0\n"
     ]
    }
   ],
   "source": [
    "import numpy as np\n",
    "import gym\n",
    "\n",
    "env = gym.make(\"CartPole-v1\")\n",
    "statespace_size = env.observation_space.shape[0]\n",
    "actionspace_size = env.action_space.n\n",
    "rewards = 0\n",
    "print(\"Aktionsraum {}\".format(env.action_space))\n",
    "print(\"Zustandsraum {}\".format(env.observation_space))\n",
    "\n",
    "state = env.reset()\n",
    "done = False\n",
    "        \n",
    "while not done:\n",
    "    action = env.action_space.sample()\n",
    "    env.render(mode=\"rgb_array\")\n",
    "    next_state, reward, done, info = env.step(action)\n",
    "    state = next_state\n",
    "    rewards += reward\n",
    "\n",
    "print(rewards)\n",
    "env.close()"
   ]
  },
  {
   "cell_type": "markdown",
   "metadata": {},
   "source": [
    "# Deep Q-Network Regler"
   ]
  },
  {
   "cell_type": "code",
   "execution_count": 33,
   "metadata": {},
   "outputs": [],
   "source": [
    "import sys\n",
    "import os\n",
    "import numpy as np\n",
    "\n",
    "module_path = os.path.abspath(os.path.join('..'))\n",
    "if module_path not in sys.path:\n",
    "    sys.path.append(module_path+\"\\\\DRLController\")\n",
    "\n",
    "from DQNController import DQNController\n",
    "from utils import *\n",
    "from keras import Sequential\n",
    "from keras.layers import Dense\n",
    "from keras.optimizers import Adam\n",
    "from keras.activations import relu, linear"
   ]
  },
  {
   "cell_type": "code",
   "execution_count": 36,
   "metadata": {},
   "outputs": [],
   "source": [
    "model = Sequential()\n",
    "model.add(Dense(24, input_dim=statespace_size, activation=\"relu\"))\n",
    "model.add(Dense(24, activation=\"relu\"))\n",
    "model.add(Dense(actionspace_size, activation=\"linear\"))\n",
    "model.compile(loss=\"mse\", optimizer=Adam(lr=alpha))\n",
    "print(model.summary())                      "
   ]
  },
  {
   "cell_type": "markdown",
   "metadata": {},
   "source": [
    "## Training des DQN Reglers"
   ]
  },
  {
   "cell_type": "code",
   "execution_count": 63,
   "metadata": {},
   "outputs": [
    {
     "name": "stdout",
     "output_type": "stream",
     "text": [
      "Model: \"sequential_5\"\n",
      "_________________________________________________________________\n",
      "Layer (type)                 Output Shape              Param #   \n",
      "=================================================================\n",
      "dense_15 (Dense)             (None, 24)                120       \n",
      "_________________________________________________________________\n",
      "dense_16 (Dense)             (None, 24)                600       \n",
      "_________________________________________________________________\n",
      "dense_17 (Dense)             (None, 2)                 50        \n",
      "=================================================================\n",
      "Total params: 770\n",
      "Trainable params: 770\n",
      "Non-trainable params: 0\n",
      "_________________________________________________________________\n",
      "None\n"
     ]
    }
   ],
   "source": [
    "class CartPoleDQNController(DQNController):\n",
    "    def __init__(self):\n",
    "        super(CartPoleDQNController, self).__init__(\"CartPole-v1\")\n",
    "        \n",
    "    def initmodel(self):\n",
    "    \n",
    "    def plotEnv(self, cartPosition, cartVelocity, angle, angleVelocity):\n",
    "        fig, axs = plt.subplots(2, 2)\n",
    "\n",
    "        axs[0, 0].plot(cartPosition, \"b-\")\n",
    "        axs[0, 0].set_ylabel('Cart Position')\n",
    "\n",
    "        axs[0, 1].plot(cartVelocity, \"r-\")\n",
    "        axs[0, 1].set_ylabel('Cart Velocity')\n",
    "\n",
    "        axs[1, 0].plot(angle, \"k-\")\n",
    "        axs[1, 0].set_ylabel('Angle')\n",
    "\n",
    "        axs[1, 1].plot(angleVelocity, \"g-\")\n",
    "        axs[1, 1].set_ylabel('Angle Velocity')\n",
    "\n",
    "        plt.savefig(\"Cart.png\")  \n",
    "\n",
    "    def plot(self):\n",
    "        save_frames_as_gif(self.frames, filename=\"PIDController.gif\")\n",
    "        self.plotEnv(self.cart_pos, self.cart_velo, self.angle, self.angle_velo)        "
   ]
  },
  {
   "cell_type": "markdown",
   "metadata": {},
   "source": [
    "### Training DQN Algorithmus für den Regler"
   ]
  },
  {
   "cell_type": "code",
   "execution_count": 64,
   "metadata": {},
   "outputs": [
    {
     "name": "stdout",
     "output_type": "stream",
     "text": [
      "Episode: 0, Reward: 19.0\n",
      "Episode: 1, Reward: 25.0\n",
      "Episode: 2, Reward: 33.0\n",
      "Episode: 3, Reward: 14.0\n",
      "Episode: 4, Reward: 15.0\n",
      "Episode: 5, Reward: 18.0\n",
      "Episode: 6, Reward: 18.0\n",
      "Episode: 7, Reward: 10.0\n",
      "Episode: 8, Reward: 20.0\n",
      "Episode: 9, Reward: 17.0\n",
      "Episode: 10, Reward: 27.0\n",
      "Episode: 11, Reward: 15.0\n",
      "Episode: 12, Reward: 24.0\n",
      "Episode: 13, Reward: 10.0\n",
      "Episode: 14, Reward: 20.0\n",
      "Episode: 15, Reward: 14.0\n",
      "Episode: 16, Reward: 11.0\n",
      "Episode: 17, Reward: 31.0\n",
      "Episode: 18, Reward: 16.0\n",
      "Episode: 19, Reward: 13.0\n",
      "Episode: 20, Reward: 10.0\n",
      "Episode: 21, Reward: 20.0\n",
      "Episode: 22, Reward: 58.0\n",
      "Episode: 23, Reward: 16.0\n",
      "Episode: 24, Reward: 14.0\n",
      "Episode: 25, Reward: 10.0\n",
      "Episode: 26, Reward: 18.0\n",
      "Episode: 27, Reward: 35.0\n",
      "Episode: 28, Reward: 18.0\n",
      "Episode: 29, Reward: 17.0\n",
      "Episode: 30, Reward: 23.0\n",
      "Episode: 31, Reward: 38.0\n",
      "Episode: 32, Reward: 12.0\n",
      "Episode: 33, Reward: 48.0\n",
      "Episode: 34, Reward: 31.0\n",
      "Episode: 35, Reward: 14.0\n",
      "Episode: 36, Reward: 25.0\n",
      "Episode: 37, Reward: 13.0\n",
      "Episode: 38, Reward: 14.0\n",
      "Episode: 39, Reward: 16.0\n",
      "Episode: 40, Reward: 41.0\n",
      "Episode: 41, Reward: 9.0\n",
      "Episode: 42, Reward: 41.0\n",
      "Episode: 43, Reward: 21.0\n",
      "Episode: 44, Reward: 19.0\n",
      "Episode: 45, Reward: 13.0\n",
      "Episode: 46, Reward: 15.0\n",
      "Episode: 47, Reward: 14.0\n",
      "Episode: 48, Reward: 10.0\n",
      "Episode: 49, Reward: 21.0\n",
      "Episode: 50, Reward: 12.0\n",
      "Episode: 51, Reward: 28.0\n",
      "Episode: 52, Reward: 22.0\n",
      "Episode: 53, Reward: 27.0\n",
      "Episode: 54, Reward: 10.0\n",
      "Episode: 55, Reward: 16.0\n",
      "Episode: 56, Reward: 11.0\n",
      "Episode: 57, Reward: 23.0\n",
      "Episode: 58, Reward: 27.0\n",
      "Episode: 59, Reward: 33.0\n",
      "Episode: 60, Reward: 15.0\n",
      "Episode: 61, Reward: 9.0\n",
      "Episode: 62, Reward: 43.0\n",
      "Episode: 63, Reward: 10.0\n",
      "Episode: 64, Reward: 13.0\n",
      "Episode: 65, Reward: 33.0\n",
      "Episode: 66, Reward: 26.0\n",
      "Episode: 67, Reward: 13.0\n",
      "Episode: 68, Reward: 10.0\n",
      "Episode: 69, Reward: 18.0\n",
      "Episode: 70, Reward: 18.0\n",
      "Episode: 71, Reward: 26.0\n",
      "Episode: 72, Reward: 18.0\n",
      "Episode: 73, Reward: 12.0\n",
      "Episode: 74, Reward: 19.0\n",
      "Episode: 75, Reward: 12.0\n",
      "Episode: 76, Reward: 18.0\n",
      "Episode: 77, Reward: 31.0\n",
      "Episode: 78, Reward: 13.0\n",
      "Episode: 79, Reward: 10.0\n",
      "Episode: 80, Reward: 27.0\n",
      "Episode: 81, Reward: 19.0\n",
      "Episode: 82, Reward: 21.0\n",
      "Episode: 83, Reward: 18.0\n",
      "Episode: 84, Reward: 17.0\n",
      "Episode: 85, Reward: 16.0\n",
      "Episode: 86, Reward: 15.0\n",
      "Episode: 87, Reward: 40.0\n",
      "Episode: 88, Reward: 13.0\n",
      "Episode: 89, Reward: 31.0\n",
      "Episode: 90, Reward: 15.0\n",
      "Episode: 91, Reward: 18.0\n",
      "Episode: 92, Reward: 11.0\n",
      "Episode: 93, Reward: 10.0\n",
      "Episode: 94, Reward: 14.0\n",
      "Episode: 95, Reward: 16.0\n",
      "Episode: 96, Reward: 17.0\n",
      "Episode: 97, Reward: 12.0\n",
      "Episode: 98, Reward: 15.0\n",
      "Episode: 99, Reward: 19.0\n",
      "Episode: 100, Reward: 14.0\n",
      "--- 0.010982582834031846 hours ---\n"
     ]
    },
    {
     "data": {
      "image/png": "[encoded data removed]",
      "text/plain": [
       "<Figure size 432x288 with 1 Axes>"
      ]
     },
     "metadata": {
      "needs_background": "light"
     },
     "output_type": "display_data"
    }
   ],
   "source": [
    "for eps in range(num_episodes+1):       \n",
    "    state = env.reset()\n",
    "    state = np.reshape(state, [1, statespace_size])\n",
    "    done = False\n",
    "    total_rewards = 0\n",
    "\n",
    "    while not done:\n",
    "        if random.uniform(0, 1) > epsilon:\n",
    "            QValue = model.predict(state)\n",
    "            action = np.argmax(QValue[0])\n",
    "        else:\n",
    "            action = random.randrange(actionspace_size)\n",
    "        \n",
    "        nextState, reward, done, info = env.step(action)\n",
    "        \n",
    "        nextState = np.reshape(nextState, [1, statespace_size])\n",
    "        memory.append((state, action, reward, nextState, done))\n",
    "        state = nextState\n",
    "        total_rewards += reward\n",
    "\n",
    "        if len(memory) > batch_size:  \n",
    "            randomSample = random.sample(memory, batch_size)\n",
    "            for stateSample, actionSample, rewardSample, nextStateSample, doneSample in randomSample:\n",
    "                QUpdate = rewardSample + gamma * (np.amax(model.predict(nextStateSample)[0])) * (1 - doneSample)\n",
    "                QValue = model.predict(stateSample)\n",
    "                QValue[0][actionSample] = QUpdate\n",
    "                \n",
    "                model.fit(stateSample, QValue, verbose=0) \n",
    "\n",
    "    if epsilon > min_epsilon:\n",
    "        epsilon = min_epsilon + (max_epsilon - min_epsilon)*np.exp(-decay_epsilon*eps)\n",
    "\n",
    "    print(\"Episode: {}, Reward: {}\".format(eps, total_rewards))\n",
    "    rewardList.append(total_rewards)\n",
    "\n",
    "    if eps % 10 == 0:\n",
    "        average = np.mean(rewardList)\n",
    "        ave_rewards.append(average)\n",
    "\n",
    "        if average > 250:\n",
    "            model.save('Episode_' + str(eps) + '_weight.h5')\n",
    "            print('Aufgabe gelöst!')\n",
    "            break\n",
    "            \n",
    "    if eps % 50 == 0:\n",
    "        model.save('Episode_' + str(eps) + '_weight.h5')\n",
    "        \n",
    "print(\"--- %s hours ---\" % str((time.time() - start_time)/3600))\n",
    "plotRewards(rewardList, ave_rewards, 10)\n",
    "env.close()"
   ]
  },
  {
   "cell_type": "markdown",
   "metadata": {},
   "source": [
    "# DQN Regler anwenden"
   ]
  },
  {
   "cell_type": "code",
   "execution_count": null,
   "metadata": {},
   "outputs": [],
   "source": [
    "env = gym.make(\"CartPole-v1\")\n",
    "print(\"Aktionsraum {}\".format(env.action_space))\n",
    "print(\"Zustandsraum {}\".format(env.observation_space))\n",
    "episodes = ['0', '50', '100', '150', '200', '250', '300', '350', '400', '450', '500']"
   ]
  },
  {
   "cell_type": "code",
   "execution_count": null,
   "metadata": {},
   "outputs": [],
   "source": [
    "for eps in episodes:\n",
    "    angle = []\n",
    "    angle_velo = []\n",
    "    cart_pos = []\n",
    "    cart_velo = []\n",
    "\n",
    "    #Initialisierung des neuronalen Netzes\n",
    "    model = Sequential()\n",
    "    model.add(Dense(24, input_dim=statespace_size, activation=\"relu\"))\n",
    "    model.add(Dense(24, activation=\"relu\"))\n",
    "    model.add(Dense(actionspace_size, activation=\"linear\"))\n",
    "    model.compile(loss=\"mse\", optimizer=Adam(lr=alpha))\n",
    "    print(model.summary())\n",
    "    model.load_weights('Episode_' + str(eps) + '_weight.h5')\n",
    "\n",
    "    state = env.reset()\n",
    "    frames = []\n",
    "    state = np.reshape(state, [1, env.observation_space])\n",
    "    done = False\n",
    "            \n",
    "    while not done:\n",
    "        frames.append(env.render(mode=\"rgb_array\"))\n",
    "\n",
    "        QValue = model.predict(state)\n",
    "        action = np.argmax(QValue[0])\n",
    "        next_state, reward, done, info = env.step(action)\n",
    "        \n",
    "        cart_pos.append(next_state[0])\n",
    "        cart_velo.append(next_state[1])\n",
    "        angle.append(next_state[2])\n",
    "        angle_velo.append(next_state[3])\n",
    "            \n",
    "        next_state = np.reshape(next_state, [1, env.observation_space])\n",
    "        state = next_state\n",
    "            \n",
    "    save_frames_as_gif(frames, filename='Episode_' + str(eps) + \"_DQNCartPole.gif\")\n",
    "    plotEnv(cart_pos, cart_velo, angle, angle_velo)"
   ]
  },
  {
   "cell_type": "markdown",
   "metadata": {},
   "source": [
    "# PID Regler"
   ]
  },
  {
   "cell_type": "code",
   "execution_count": 1,
   "metadata": {},
   "outputs": [],
   "source": [
    "import sys\n",
    "import os\n",
    "import numpy as np\n",
    "\n",
    "module_path = os.path.abspath(os.path.join('..'))\n",
    "if module_path not in sys.path:\n",
    "    sys.path.append(module_path+\"\\\\DRLController\")\n",
    "\n",
    "from PIDController import PIDController\n",
    "from utils import *"
   ]
  },
  {
   "cell_type": "markdown",
   "metadata": {},
   "source": [
    "## Definition der Parameter"
   ]
  },
  {
   "cell_type": "code",
   "execution_count": 4,
   "metadata": {},
   "outputs": [],
   "source": [
    "class CartPolePIDController(PIDController):\n",
    "    def __init__(self):\n",
    "        super(CartPolePIDController, self).__init__(\"CartPole-v1\")\n",
    "        self.kp = 1.0\n",
    "        self.ki = 0.0\n",
    "        self.kd = 1.0/75.0\n",
    "        self.cart_pos = []\n",
    "        self.cart_velo = []\n",
    "        self.angle = []\n",
    "        self.angle_velo = []\n",
    "        \n",
    "    def getAction(self, val):\n",
    "        action = 0 \n",
    "        if val >= 0:\n",
    "            action = 0\n",
    "        else:\n",
    "            action = 1\n",
    "\n",
    "        return action\n",
    "\n",
    "    def control(self):\n",
    "        while not self.done:\n",
    "            self.error = -self.state[2]\n",
    "            super(CartPolePIDController, self).control()\n",
    "            self.cart_pos.append(self.state[0])\n",
    "            self.cart_velo.append(self.state[1])\n",
    "            self.angle.append(self.state[2])\n",
    "            self.angle_velo.append(self.state[3])\n",
    "    \n",
    "    def plotEnv(self, cartPosition, cartVelocity, angle, angleVelocity):\n",
    "        fig, axs = plt.subplots(2, 2)\n",
    "\n",
    "        axs[0, 0].plot(cartPosition, \"b-\")\n",
    "        axs[0, 0].set_ylabel('Cart Position')\n",
    "\n",
    "        axs[0, 1].plot(cartVelocity, \"r-\")\n",
    "        axs[0, 1].set_ylabel('Cart Velocity')\n",
    "\n",
    "        axs[1, 0].plot(angle, \"k-\")\n",
    "        axs[1, 0].set_ylabel('Angle')\n",
    "\n",
    "        axs[1, 1].plot(angleVelocity, \"g-\")\n",
    "        axs[1, 1].set_ylabel('Angle Velocity')\n",
    "\n",
    "        plt.savefig(\"Cart.png\")  \n",
    "\n",
    "    def plot(self):\n",
    "        save_frames_as_gif(self.frames, filename=\"PIDController.gif\")\n",
    "        self.plotEnv(self.cart_pos, self.cart_velo, self.angle, self.angle_velo)\n",
    "        plotPIDController(self.ptermlist, self.itermlist, self.dtermlist, self.outputlist)"
   ]
  },
  {
   "cell_type": "markdown",
   "metadata": {},
   "source": [
    "## Regler"
   ]
  },
  {
   "cell_type": "code",
   "execution_count": 5,
   "metadata": {},
   "outputs": [
    {
     "name": "stdout",
     "output_type": "stream",
     "text": [
      "Aktionsraum Discrete(2)\n",
      "Zustandsraum Box(-3.4028234663852886e+38, 3.4028234663852886e+38, (4,), float32)\n"
     ]
    },
    {
     "name": "stderr",
     "output_type": "stream",
     "text": [
      "MovieWriter imagemagick unavailable; using Pillow instead.\n"
     ]
    },
    {
     "data": {
      "image/png": "[encoded data removed]",
      "text/plain": [
       "<Figure size 600x400 with 1 Axes>"
      ]
     },
     "metadata": {
      "needs_background": "light"
     },
     "output_type": "display_data"
    },
    {
     "data": {
      "image/png": "[encoded data removed]",
      "text/plain": [
       "<Figure size 432x288 with 4 Axes>"
      ]
     },
     "metadata": {
      "needs_background": "light"
     },
     "output_type": "display_data"
    },
    {
     "data": {
      "image/png": "[encoded data removed]",
      "text/plain": [
       "<Figure size 432x288 with 4 Axes>"
      ]
     },
     "metadata": {
      "needs_background": "light"
     },
     "output_type": "display_data"
    }
   ],
   "source": [
    "Controller = CartPolePIDController()\n",
    "Controller.control()\n",
    "Controller.plot()\n",
    "Controller.close()"
   ]
  },
  {
   "cell_type": "code",
   "execution_count": null,
   "metadata": {},
   "outputs": [],
   "source": []
  }
 ],
 "metadata": {
  "interpreter": {
   "hash": "1baa965d5efe3ac65b79dfc60c0d706280b1da80fedb7760faf2759126c4f253"
  },
  "kernelspec": {
   "display_name": "Python 3.8.8 64-bit",
   "name": "python3"
  },
  "language_info": {
   "codemirror_mode": {
    "name": "ipython",
    "version": 3
   },
   "file_extension": ".py",
   "mimetype": "text/x-python",
   "name": "python",
   "nbconvert_exporter": "python",
   "pygments_lexer": "ipython3",
   "version": "3.8.8-final"
  },
  "metadata": {
   "interpreter": {
    "hash": "1baa965d5efe3ac65b79dfc60c0d706280b1da80fedb7760faf2759126c4f253"
   }
  },
  "orig_nbformat": 2
 },
 "nbformat": 4,
 "nbformat_minor": 2
}
